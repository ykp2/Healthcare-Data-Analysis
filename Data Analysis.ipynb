{
 "cells": [
  {
   "cell_type": "markdown",
   "metadata": {},
   "source": [
    "The goal of this analysis is to showcase the effectiveness of the marketplace provided by our product, iQueue. We have the data for the 'Exchange' transactions that happened via iQueue for a new customer of LeanTaaS. 'iQueue' is a software product used to free up capacity in operating rooms and create a much more transparent and surgeon-centric process for measuring Operating Room (OR) utilization."
   ]
  },
  {
   "cell_type": "code",
   "execution_count": 198,
   "metadata": {},
   "outputs": [],
   "source": [
    "#Import the required Python libraries\n",
    "import random\n",
    "import sqlite3\n",
    "import numpy as np\n",
    "%matplotlib inline\n",
    "import pandas as pd\n",
    "import matplotlib.pyplot as plt"
   ]
  },
  {
   "cell_type": "code",
   "execution_count": 199,
   "metadata": {},
   "outputs": [],
   "source": [
    "#Connect to database and extract the exchange_transactions table \n",
    "sqlite_file = 'LeanTaaSTestDB.db'\n",
    "conn = sqlite3.connect(sqlite_file)\n",
    "extr = pd.read_sql_query(\"SELECT * FROM exchange_transactions\", conn)"
   ]
  },
  {
   "cell_type": "code",
   "execution_count": 203,
   "metadata": {},
   "outputs": [
    {
     "name": "stdout",
     "output_type": "stream",
     "text": [
      "Dimensions of the exchange transactions table are: (6965, 11)\n"
     ]
    }
   ],
   "source": [
    "print(\"Dimensions of the exchange transactions table are: {}\".format(extr.shape))"
   ]
  },
  {
   "cell_type": "code",
   "execution_count": 204,
   "metadata": {},
   "outputs": [
    {
     "data": {
      "text/html": [
       "<div>\n",
       "<style scoped>\n",
       "    .dataframe tbody tr th:only-of-type {\n",
       "        vertical-align: middle;\n",
       "    }\n",
       "\n",
       "    .dataframe tbody tr th {\n",
       "        vertical-align: top;\n",
       "    }\n",
       "\n",
       "    .dataframe thead th {\n",
       "        text-align: right;\n",
       "    }\n",
       "</style>\n",
       "<table border=\"1\" class=\"dataframe\">\n",
       "  <thead>\n",
       "    <tr style=\"text-align: right;\">\n",
       "      <th></th>\n",
       "      <th>transaction_id</th>\n",
       "      <th>parent_transaction_id</th>\n",
       "      <th>action</th>\n",
       "      <th>scheduler</th>\n",
       "      <th>surgeon</th>\n",
       "      <th>created_datetime</th>\n",
       "      <th>snapshot_date</th>\n",
       "      <th>start_time</th>\n",
       "      <th>end_time</th>\n",
       "      <th>room_name</th>\n",
       "      <th>location</th>\n",
       "    </tr>\n",
       "  </thead>\n",
       "  <tbody>\n",
       "    <tr>\n",
       "      <td>count</td>\n",
       "      <td>6965</td>\n",
       "      <td>4176</td>\n",
       "      <td>6965</td>\n",
       "      <td>6965</td>\n",
       "      <td>6965</td>\n",
       "      <td>6965</td>\n",
       "      <td>6965</td>\n",
       "      <td>6965</td>\n",
       "      <td>6965</td>\n",
       "      <td>4376</td>\n",
       "      <td>6965</td>\n",
       "    </tr>\n",
       "    <tr>\n",
       "      <td>unique</td>\n",
       "      <td>6935</td>\n",
       "      <td>2772</td>\n",
       "      <td>9</td>\n",
       "      <td>275</td>\n",
       "      <td>357</td>\n",
       "      <td>6823</td>\n",
       "      <td>65</td>\n",
       "      <td>64</td>\n",
       "      <td>76</td>\n",
       "      <td>95</td>\n",
       "      <td>7</td>\n",
       "    </tr>\n",
       "    <tr>\n",
       "      <td>top</td>\n",
       "      <td>2c9180826ba0b5ad016bb3e4a083067b</td>\n",
       "      <td>2c9180826ba0b5ad016bb3e4a083067b</td>\n",
       "      <td>MARK_UPDATED</td>\n",
       "      <td>Debra Selman</td>\n",
       "      <td>Daniel Finney</td>\n",
       "      <td>2019-07-23 07:02:59.000000</td>\n",
       "      <td>2019-06-28 00:00:00.000000</td>\n",
       "      <td>07:30:00</td>\n",
       "      <td>19:00:00</td>\n",
       "      <td>MRHOR 03</td>\n",
       "      <td>MRAH OR</td>\n",
       "    </tr>\n",
       "    <tr>\n",
       "      <td>freq</td>\n",
       "      <td>4</td>\n",
       "      <td>4</td>\n",
       "      <td>2576</td>\n",
       "      <td>485</td>\n",
       "      <td>135</td>\n",
       "      <td>4</td>\n",
       "      <td>189</td>\n",
       "      <td>2054</td>\n",
       "      <td>1696</td>\n",
       "      <td>117</td>\n",
       "      <td>2205</td>\n",
       "    </tr>\n",
       "  </tbody>\n",
       "</table>\n",
       "</div>"
      ],
      "text/plain": [
       "                          transaction_id             parent_transaction_id  \\\n",
       "count                               6965                              4176   \n",
       "unique                              6935                              2772   \n",
       "top     2c9180826ba0b5ad016bb3e4a083067b  2c9180826ba0b5ad016bb3e4a083067b   \n",
       "freq                                   4                                 4   \n",
       "\n",
       "              action     scheduler        surgeon            created_datetime  \\\n",
       "count           6965          6965           6965                        6965   \n",
       "unique             9           275            357                        6823   \n",
       "top     MARK_UPDATED  Debra Selman  Daniel Finney  2019-07-23 07:02:59.000000   \n",
       "freq            2576           485            135                           4   \n",
       "\n",
       "                     snapshot_date start_time  end_time room_name location  \n",
       "count                         6965       6965      6965      4376     6965  \n",
       "unique                          65         64        76        95        7  \n",
       "top     2019-06-28 00:00:00.000000   07:30:00  19:00:00  MRHOR 03  MRAH OR  \n",
       "freq                           189       2054      1696       117     2205  "
      ]
     },
     "execution_count": 204,
     "metadata": {},
     "output_type": "execute_result"
    }
   ],
   "source": [
    "extr.describe()"
   ]
  },
  {
   "cell_type": "markdown",
   "metadata": {},
   "source": [
    "From the description we can note the following points:\n",
    "* We have a total of 6965 but only 6935 unique transaction ids. Some transactions have been repeated in the dataset.\n",
    "* Some transactions have a parent transaction.\n",
    "* A parent transaction may be the parent of 1 or more transactions.\n",
    "* There are 275 schedulers in the system.\n",
    "* There are 357 surgeons in the system.\n",
    "\n",
    "We will proceed from here by deleting the repeated/duplicate transactions, converting the columns containning date and time to datetype in Python and add a column corresponding to the duration of time blocked scheduling time for the transaction."
   ]
  },
  {
   "cell_type": "code",
   "execution_count": 205,
   "metadata": {},
   "outputs": [],
   "source": [
    "#Drop rows corresponding to duplicates of transactions\n",
    "extr.drop_duplicates(keep='first', inplace=True)"
   ]
  },
  {
   "cell_type": "code",
   "execution_count": 206,
   "metadata": {},
   "outputs": [],
   "source": [
    "#Convert relevant columns to datetime type and add a column for duration of each transaction\n",
    "extr['created_datetime'] = pd.to_datetime(extr['created_datetime'])\n",
    "extr['snapshot_date'] = pd.to_datetime(extr['snapshot_date'])\n",
    "extr['start_time'] = pd.to_datetime(extr['start_time'])\n",
    "extr['end_time'] = pd.to_datetime(extr['end_time'])\n",
    "extr['duration'] = (extr['end_time'] - extr['start_time']).dt.total_seconds()/3600"
   ]
  },
  {
   "cell_type": "code",
   "execution_count": 208,
   "metadata": {},
   "outputs": [
    {
     "data": {
      "text/plain": [
       "Timedelta('88 days 00:00:00')"
      ]
     },
     "execution_count": 208,
     "metadata": {},
     "output_type": "execute_result"
    }
   ],
   "source": [
    "#Calculate number of days of operation of iQueue\n",
    "max(extr['snapshot_date']) - min(extr['snapshot_date'])"
   ]
  },
  {
   "cell_type": "code",
   "execution_count": 209,
   "metadata": {},
   "outputs": [
    {
     "data": {
      "text/plain": [
       "6935"
      ]
     },
     "execution_count": 209,
     "metadata": {},
     "output_type": "execute_result"
    }
   ],
   "source": [
    "extr.shape[0] #Check the number of rows in the data after removing duplicates"
   ]
  },
  {
   "cell_type": "code",
   "execution_count": 210,
   "metadata": {
    "scrolled": false
   },
   "outputs": [
    {
     "data": {
      "text/html": [
       "<div>\n",
       "<style scoped>\n",
       "    .dataframe tbody tr th:only-of-type {\n",
       "        vertical-align: middle;\n",
       "    }\n",
       "\n",
       "    .dataframe tbody tr th {\n",
       "        vertical-align: top;\n",
       "    }\n",
       "\n",
       "    .dataframe thead th {\n",
       "        text-align: right;\n",
       "    }\n",
       "</style>\n",
       "<table border=\"1\" class=\"dataframe\">\n",
       "  <thead>\n",
       "    <tr style=\"text-align: right;\">\n",
       "      <th></th>\n",
       "      <th>transaction_id</th>\n",
       "      <th>parent_transaction_id</th>\n",
       "      <th>action</th>\n",
       "      <th>scheduler</th>\n",
       "      <th>surgeon</th>\n",
       "      <th>created_datetime</th>\n",
       "      <th>snapshot_date</th>\n",
       "      <th>start_time</th>\n",
       "      <th>end_time</th>\n",
       "      <th>room_name</th>\n",
       "      <th>location</th>\n",
       "      <th>duration</th>\n",
       "    </tr>\n",
       "  </thead>\n",
       "  <tbody>\n",
       "    <tr>\n",
       "      <td>0</td>\n",
       "      <td>2c91808267d2ea5301682f73e9a1093e</td>\n",
       "      <td>None</td>\n",
       "      <td>RELEASE</td>\n",
       "      <td>Jessie Shelley</td>\n",
       "      <td>Bryan Neer</td>\n",
       "      <td>2019-01-15 13:52:32</td>\n",
       "      <td>2019-07-01</td>\n",
       "      <td>2019-10-08 07:30:00</td>\n",
       "      <td>2019-10-08 19:00:00</td>\n",
       "      <td>MRAH OR 03</td>\n",
       "      <td>CENTER</td>\n",
       "      <td>11.500000</td>\n",
       "    </tr>\n",
       "    <tr>\n",
       "      <td>1</td>\n",
       "      <td>2c91808267d2ea5301683984e52b0bfb</td>\n",
       "      <td>None</td>\n",
       "      <td>TRANSFER</td>\n",
       "      <td>Raymond Smith</td>\n",
       "      <td>Charles Mcdonald</td>\n",
       "      <td>2019-01-17 12:47:17</td>\n",
       "      <td>2019-06-20</td>\n",
       "      <td>2019-10-08 07:30:00</td>\n",
       "      <td>2019-10-08 19:00:00</td>\n",
       "      <td>MRAH OR 06</td>\n",
       "      <td>CENTER</td>\n",
       "      <td>11.500000</td>\n",
       "    </tr>\n",
       "    <tr>\n",
       "      <td>2</td>\n",
       "      <td>2c91808267d2ea53016839855a480bfc</td>\n",
       "      <td>None</td>\n",
       "      <td>TRANSFER</td>\n",
       "      <td>Raymond Smith</td>\n",
       "      <td>Charles Mcdonald</td>\n",
       "      <td>2019-01-17 12:47:47</td>\n",
       "      <td>2019-06-20</td>\n",
       "      <td>2019-10-08 07:30:00</td>\n",
       "      <td>2019-10-08 19:00:00</td>\n",
       "      <td>MNOR 36</td>\n",
       "      <td>CENTER</td>\n",
       "      <td>11.500000</td>\n",
       "    </tr>\n",
       "    <tr>\n",
       "      <td>3</td>\n",
       "      <td>2c91808267d2eb4b016829281a390786</td>\n",
       "      <td>None</td>\n",
       "      <td>RELEASE</td>\n",
       "      <td>Kimberly Bugg</td>\n",
       "      <td>Joann Hinson</td>\n",
       "      <td>2019-01-14 08:32:01</td>\n",
       "      <td>2019-06-12</td>\n",
       "      <td>2019-10-08 08:50:00</td>\n",
       "      <td>2019-10-08 19:00:00</td>\n",
       "      <td>MNOR 25</td>\n",
       "      <td>CENTER</td>\n",
       "      <td>10.166667</td>\n",
       "    </tr>\n",
       "    <tr>\n",
       "      <td>4</td>\n",
       "      <td>2c91808267d2eb4b01682977274607cb</td>\n",
       "      <td>2c91808267d2eb4b016829281a390786</td>\n",
       "      <td>MARK_UPDATED</td>\n",
       "      <td>Dora Smith</td>\n",
       "      <td>Joann Hinson</td>\n",
       "      <td>2019-01-14 09:58:21</td>\n",
       "      <td>2019-06-12</td>\n",
       "      <td>2019-10-08 08:50:00</td>\n",
       "      <td>2019-10-08 19:00:00</td>\n",
       "      <td>MNOR 25</td>\n",
       "      <td>CENTER</td>\n",
       "      <td>10.166667</td>\n",
       "    </tr>\n",
       "  </tbody>\n",
       "</table>\n",
       "</div>"
      ],
      "text/plain": [
       "                     transaction_id             parent_transaction_id  \\\n",
       "0  2c91808267d2ea5301682f73e9a1093e                              None   \n",
       "1  2c91808267d2ea5301683984e52b0bfb                              None   \n",
       "2  2c91808267d2ea53016839855a480bfc                              None   \n",
       "3  2c91808267d2eb4b016829281a390786                              None   \n",
       "4  2c91808267d2eb4b01682977274607cb  2c91808267d2eb4b016829281a390786   \n",
       "\n",
       "         action       scheduler           surgeon    created_datetime  \\\n",
       "0       RELEASE  Jessie Shelley        Bryan Neer 2019-01-15 13:52:32   \n",
       "1      TRANSFER   Raymond Smith  Charles Mcdonald 2019-01-17 12:47:17   \n",
       "2      TRANSFER   Raymond Smith  Charles Mcdonald 2019-01-17 12:47:47   \n",
       "3       RELEASE   Kimberly Bugg      Joann Hinson 2019-01-14 08:32:01   \n",
       "4  MARK_UPDATED      Dora Smith      Joann Hinson 2019-01-14 09:58:21   \n",
       "\n",
       "  snapshot_date          start_time            end_time   room_name location  \\\n",
       "0    2019-07-01 2019-10-08 07:30:00 2019-10-08 19:00:00  MRAH OR 03   CENTER   \n",
       "1    2019-06-20 2019-10-08 07:30:00 2019-10-08 19:00:00  MRAH OR 06   CENTER   \n",
       "2    2019-06-20 2019-10-08 07:30:00 2019-10-08 19:00:00     MNOR 36   CENTER   \n",
       "3    2019-06-12 2019-10-08 08:50:00 2019-10-08 19:00:00     MNOR 25   CENTER   \n",
       "4    2019-06-12 2019-10-08 08:50:00 2019-10-08 19:00:00     MNOR 25   CENTER   \n",
       "\n",
       "    duration  \n",
       "0  11.500000  \n",
       "1  11.500000  \n",
       "2  11.500000  \n",
       "3  10.166667  \n",
       "4  10.166667  "
      ]
     },
     "execution_count": 210,
     "metadata": {},
     "output_type": "execute_result"
    }
   ],
   "source": [
    "extr.head() #Look at the top few rows of the data table"
   ]
  },
  {
   "cell_type": "markdown",
   "metadata": {},
   "source": [
    "Here we notice that some transactions do not have a parent transaction. We will filter such 'fresh' transactions and look at the actions performed for them followed by looking at the count of locations and rooms."
   ]
  },
  {
   "cell_type": "code",
   "execution_count": 211,
   "metadata": {},
   "outputs": [
    {
     "data": {
      "text/plain": [
       "REQUEST     1309\n",
       "RELEASE     1200\n",
       "TRANSFER     263\n",
       "Name: action, dtype: int64"
      ]
     },
     "execution_count": 211,
     "metadata": {},
     "output_type": "execute_result"
    }
   ],
   "source": [
    "#Filter the transactions that do not have a parent transaction\n",
    "fresh_tr = extr[extr['parent_transaction_id'].isnull()]\n",
    "fresh_tr['action'].value_counts()"
   ]
  },
  {
   "cell_type": "code",
   "execution_count": 212,
   "metadata": {},
   "outputs": [
    {
     "data": {
      "text/plain": [
       "MRAH OR        858\n",
       "CENTER         811\n",
       "MSC OR         351\n",
       "MASC OR        264\n",
       "MRH OR         232\n",
       "VISION OR      214\n",
       "CENTER PEDS     42\n",
       "Name: location, dtype: int64"
      ]
     },
     "execution_count": 212,
     "metadata": {},
     "output_type": "execute_result"
    }
   ],
   "source": [
    "fresh_tr['location'].value_counts() #Count of locations"
   ]
  },
  {
   "cell_type": "code",
   "execution_count": 213,
   "metadata": {},
   "outputs": [
    {
     "data": {
      "text/plain": [
       "MRHOR 03         36\n",
       "MRAH OR 10       35\n",
       "MNOR 36          35\n",
       "MASC OR 08       33\n",
       "MMP 40 (IICT)    31\n",
       "                 ..\n",
       "MNOR 34           2\n",
       "MSCOR 01          2\n",
       "MRAH OR 08        2\n",
       "MSCOR 05          1\n",
       "MRAH OR 09        1\n",
       "Name: room_name, Length: 95, dtype: int64"
      ]
     },
     "execution_count": 213,
     "metadata": {},
     "output_type": "execute_result"
    }
   ],
   "source": [
    "fresh_tr['room_name'].value_counts() #Count of rooms (top and bottom few)"
   ]
  },
  {
   "cell_type": "markdown",
   "metadata": {},
   "source": [
    "It is evident that the total of 2772 'fresh' transactions are either of type REQUEST, RELEASE or TRANSFER.\n",
    "\n",
    "Let us look at the duration of each type of transactions by plotting histograms."
   ]
  },
  {
   "cell_type": "code",
   "execution_count": 214,
   "metadata": {},
   "outputs": [],
   "source": [
    "requests_data = fresh_tr[fresh_tr['action']=='REQUEST']\n",
    "req_dur = requests_data['duration']\n",
    "release_data = fresh_tr[fresh_tr['action']=='RELEASE']\n",
    "rel_dur = release_data['duration']"
   ]
  },
  {
   "cell_type": "code",
   "execution_count": 217,
   "metadata": {},
   "outputs": [
    {
     "data": {
      "image/png": "[encoded data removed]",
      "text/plain": [
       "<Figure size 432x288 with 2 Axes>"
      ]
     },
     "metadata": {
      "needs_background": "light"
     },
     "output_type": "display_data"
    }
   ],
   "source": [
    "bins = np.linspace(0, 15, 30)\n",
    "fig, ax = plt.subplots(1, 2)\n",
    "ax[0].hist(req_dur, bins, alpha=0.5, color = 'black')\n",
    "ax[0].set_ylabel('Count')\n",
    "ax[0].set_xlabel('Request duration')\n",
    "ax[0].set_ylim(0, 250)\n",
    "ax[1].hist(rel_dur, bins, alpha=0.5, color = 'blue')\n",
    "ax[1].set_ylim(0, 250)\n",
    "ax[1].set_xlabel('Release duration')\n",
    "plt.show()"
   ]
  },
  {
   "cell_type": "code",
   "execution_count": 218,
   "metadata": {},
   "outputs": [
    {
     "data": {
      "image/png": "[encoded data removed]",
      "text/plain": [
       "<Figure size 432x288 with 1 Axes>"
      ]
     },
     "metadata": {
      "needs_background": "light"
     },
     "output_type": "display_data"
    }
   ],
   "source": [
    "transfer_data = fresh_tr[fresh_tr['action']=='TRANSFER']\n",
    "plt.hist(transfer_data['duration'], color = 'green')\n",
    "plt.xlabel('Transfer duration')\n",
    "plt.ylabel('Count')\n",
    "plt.show()"
   ]
  },
  {
   "cell_type": "markdown",
   "metadata": {},
   "source": [
    "Next, we will filter the transactions having a parent transaction and look at the actions performed in them."
   ]
  },
  {
   "cell_type": "code",
   "execution_count": 219,
   "metadata": {},
   "outputs": [],
   "source": [
    "notnullpar_tr = extr[extr['parent_transaction_id'].notnull()]"
   ]
  },
  {
   "cell_type": "code",
   "execution_count": 220,
   "metadata": {},
   "outputs": [
    {
     "data": {
      "text/plain": [
       "MARK_UPDATED        2569\n",
       "APPROVE_REQUEST     1134\n",
       "APPROVE_TRANSFER     256\n",
       "DENY_REQUEST         174\n",
       "DENY_RELEASE          23\n",
       "DENY_TRANSFER          7\n",
       "Name: action, dtype: int64"
      ]
     },
     "execution_count": 220,
     "metadata": {},
     "output_type": "execute_result"
    }
   ],
   "source": [
    "notnullpar_tr['action'].value_counts()"
   ]
  },
  {
   "cell_type": "markdown",
   "metadata": {},
   "source": [
    "It is evident that the follow up transactions are of one of the types: MARK_UPDATED, APPROVE_REQUEST, APPROVE_TRANSFER, DENY_REQUEST, DENY_RELEASE, DENY_TRANSFER.\n",
    "\n",
    "Next, we will filter some columns from the fresh transactions table, some from table having parent transactions and perform a left join on the two tables. This will give us details of the downstream transactions that took place on every parent transaction."
   ]
  },
  {
   "cell_type": "code",
   "execution_count": 221,
   "metadata": {},
   "outputs": [
    {
     "data": {
      "text/html": [
       "<div>\n",
       "<style scoped>\n",
       "    .dataframe tbody tr th:only-of-type {\n",
       "        vertical-align: middle;\n",
       "    }\n",
       "\n",
       "    .dataframe tbody tr th {\n",
       "        vertical-align: top;\n",
       "    }\n",
       "\n",
       "    .dataframe thead th {\n",
       "        text-align: right;\n",
       "    }\n",
       "</style>\n",
       "<table border=\"1\" class=\"dataframe\">\n",
       "  <thead>\n",
       "    <tr style=\"text-align: right;\">\n",
       "      <th></th>\n",
       "      <th>transaction_id</th>\n",
       "      <th>created_datetime_x</th>\n",
       "      <th>action_x</th>\n",
       "      <th>duration</th>\n",
       "      <th>parent_transaction_id</th>\n",
       "      <th>created_datetime_y</th>\n",
       "      <th>action_y</th>\n",
       "    </tr>\n",
       "  </thead>\n",
       "  <tbody>\n",
       "    <tr>\n",
       "      <td>0</td>\n",
       "      <td>2c91808267d2ea5301682f73e9a1093e</td>\n",
       "      <td>2019-01-15 13:52:32</td>\n",
       "      <td>RELEASE</td>\n",
       "      <td>11.5</td>\n",
       "      <td>2c91808267d2ea5301682f73e9a1093e</td>\n",
       "      <td>2019-01-15 14:59:38</td>\n",
       "      <td>MARK_UPDATED</td>\n",
       "    </tr>\n",
       "    <tr>\n",
       "      <td>1</td>\n",
       "      <td>2c91808267d2ea5301683984e52b0bfb</td>\n",
       "      <td>2019-01-17 12:47:17</td>\n",
       "      <td>TRANSFER</td>\n",
       "      <td>11.5</td>\n",
       "      <td>2c91808267d2ea5301683984e52b0bfb</td>\n",
       "      <td>2019-01-18 06:01:54</td>\n",
       "      <td>APPROVE_TRANSFER</td>\n",
       "    </tr>\n",
       "    <tr>\n",
       "      <td>2</td>\n",
       "      <td>2c91808267d2ea5301683984e52b0bfb</td>\n",
       "      <td>2019-01-17 12:47:17</td>\n",
       "      <td>TRANSFER</td>\n",
       "      <td>11.5</td>\n",
       "      <td>2c91808267d2ea5301683984e52b0bfb</td>\n",
       "      <td>2019-01-18 06:02:02</td>\n",
       "      <td>MARK_UPDATED</td>\n",
       "    </tr>\n",
       "    <tr>\n",
       "      <td>3</td>\n",
       "      <td>2c91808267d2ea53016839855a480bfc</td>\n",
       "      <td>2019-01-17 12:47:47</td>\n",
       "      <td>TRANSFER</td>\n",
       "      <td>11.5</td>\n",
       "      <td>2c91808267d2ea53016839855a480bfc</td>\n",
       "      <td>2019-01-18 05:58:48</td>\n",
       "      <td>APPROVE_TRANSFER</td>\n",
       "    </tr>\n",
       "    <tr>\n",
       "      <td>4</td>\n",
       "      <td>2c91808267d2ea53016839855a480bfc</td>\n",
       "      <td>2019-01-17 12:47:47</td>\n",
       "      <td>TRANSFER</td>\n",
       "      <td>11.5</td>\n",
       "      <td>2c91808267d2ea53016839855a480bfc</td>\n",
       "      <td>2019-01-18 06:01:33</td>\n",
       "      <td>MARK_UPDATED</td>\n",
       "    </tr>\n",
       "  </tbody>\n",
       "</table>\n",
       "</div>"
      ],
      "text/plain": [
       "                     transaction_id  created_datetime_x  action_x  duration  \\\n",
       "0  2c91808267d2ea5301682f73e9a1093e 2019-01-15 13:52:32   RELEASE      11.5   \n",
       "1  2c91808267d2ea5301683984e52b0bfb 2019-01-17 12:47:17  TRANSFER      11.5   \n",
       "2  2c91808267d2ea5301683984e52b0bfb 2019-01-17 12:47:17  TRANSFER      11.5   \n",
       "3  2c91808267d2ea53016839855a480bfc 2019-01-17 12:47:47  TRANSFER      11.5   \n",
       "4  2c91808267d2ea53016839855a480bfc 2019-01-17 12:47:47  TRANSFER      11.5   \n",
       "\n",
       "              parent_transaction_id  created_datetime_y          action_y  \n",
       "0  2c91808267d2ea5301682f73e9a1093e 2019-01-15 14:59:38      MARK_UPDATED  \n",
       "1  2c91808267d2ea5301683984e52b0bfb 2019-01-18 06:01:54  APPROVE_TRANSFER  \n",
       "2  2c91808267d2ea5301683984e52b0bfb 2019-01-18 06:02:02      MARK_UPDATED  \n",
       "3  2c91808267d2ea53016839855a480bfc 2019-01-18 05:58:48  APPROVE_TRANSFER  \n",
       "4  2c91808267d2ea53016839855a480bfc 2019-01-18 06:01:33      MARK_UPDATED  "
      ]
     },
     "execution_count": 221,
     "metadata": {},
     "output_type": "execute_result"
    }
   ],
   "source": [
    "fresh = fresh_tr[['transaction_id', 'created_datetime', 'action', 'duration']]\n",
    "notnull = notnullpar_tr[['parent_transaction_id', 'created_datetime', 'action']]\n",
    "fresh_leftjoin_notnull = fresh.merge(notnull, left_on='transaction_id', right_on='parent_transaction_id', how='left')\n",
    "fresh_leftjoin_notnull.sort_values('transaction_id').head()"
   ]
  },
  {
   "cell_type": "markdown",
   "metadata": {},
   "source": [
    "Now we can look at the downstream transactions for each type of parent transaction by filtering data from this table along with the processing time!"
   ]
  },
  {
   "cell_type": "markdown",
   "metadata": {},
   "source": [
    "**1) TRANSFER**"
   ]
  },
  {
   "cell_type": "code",
   "execution_count": 222,
   "metadata": {},
   "outputs": [
    {
     "data": {
      "text/plain": [
       "256"
      ]
     },
     "execution_count": 222,
     "metadata": {},
     "output_type": "execute_result"
    }
   ],
   "source": [
    "#Filter transactions having Transfer and Mark updated actions\n",
    "transfer_upd = fresh_leftjoin_notnull[(fresh_leftjoin_notnull['action_x']=='TRANSFER') & \n",
    "                                      (fresh_leftjoin_notnull['action_y']=='MARK_UPDATED')]\n",
    "transfer_upd.shape[0]"
   ]
  },
  {
   "cell_type": "code",
   "execution_count": 223,
   "metadata": {},
   "outputs": [
    {
     "data": {
      "text/plain": [
       "256"
      ]
     },
     "execution_count": 223,
     "metadata": {},
     "output_type": "execute_result"
    }
   ],
   "source": [
    "#Filter transactions having Transfer and Approve transfer actions\n",
    "transfer_app = fresh_leftjoin_notnull[(fresh_leftjoin_notnull['action_x']=='TRANSFER') & \n",
    "                                      (fresh_leftjoin_notnull['action_y']=='APPROVE_TRANSFER')]\n",
    "transfer_app.shape[0]"
   ]
  },
  {
   "cell_type": "code",
   "execution_count": 224,
   "metadata": {},
   "outputs": [
    {
     "data": {
      "text/plain": [
       "7"
      ]
     },
     "execution_count": 224,
     "metadata": {},
     "output_type": "execute_result"
    }
   ],
   "source": [
    " #Filter transactions having Transfer and Deny transfer actions\n",
    "transfer_deny = fresh_leftjoin_notnull[(fresh_leftjoin_notnull['action_x']=='TRANSFER') & \n",
    "                                       (fresh_leftjoin_notnull['action_y']=='DENY_TRANSFER')]\n",
    "transfer_deny.shape[0]"
   ]
  },
  {
   "cell_type": "markdown",
   "metadata": {},
   "source": [
    "We note here that from the 263 TRANSFER transactions, 256 were APPROVED and MARKED UPDATED in that order. The remaining 7 transfer transactions were denied. 97.3% percent of TRANSFER transactions were APPROVED."
   ]
  },
  {
   "cell_type": "code",
   "execution_count": 225,
   "metadata": {},
   "outputs": [
    {
     "data": {
      "text/plain": [
       "2085.4166666666665"
      ]
     },
     "execution_count": 225,
     "metadata": {},
     "output_type": "execute_result"
    }
   ],
   "source": [
    "transfer_app['duration'].sum()"
   ]
  },
  {
   "cell_type": "code",
   "execution_count": 244,
   "metadata": {},
   "outputs": [
    {
     "data": {
      "image/png": "[encoded data removed]",
      "text/plain": [
       "<Figure size 432x288 with 1 Axes>"
      ]
     },
     "metadata": {
      "needs_background": "light"
     },
     "output_type": "display_data"
    }
   ],
   "source": [
    "plt.hist(transfer_app['duration'], color = 'green')\n",
    "plt.xlabel('Approved transfer duration')\n",
    "plt.ylabel('Count')\n",
    "plt.show()"
   ]
  },
  {
   "cell_type": "code",
   "execution_count": 245,
   "metadata": {},
   "outputs": [
    {
     "data": {
      "image/png": "[encoded data removed]",
      "text/plain": [
       "<Figure size 432x288 with 1 Axes>"
      ]
     },
     "metadata": {
      "needs_background": "light"
     },
     "output_type": "display_data"
    }
   ],
   "source": [
    "transfer_upd.loc[:,'process_time'] = (pd.to_datetime(transfer_upd['created_datetime_y']) - \n",
    "                                              pd.to_datetime(transfer_upd['created_datetime_x'])).dt.total_seconds()/3600\n",
    "plt.hist(transfer_upd['process_time'])\n",
    "plt.xlabel('Transfer processing time')\n",
    "plt.ylabel('Frequency')\n",
    "plt.show()"
   ]
  },
  {
   "cell_type": "code",
   "execution_count": 230,
   "metadata": {},
   "outputs": [
    {
     "data": {
      "text/plain": [
       "7.37080186631945"
      ]
     },
     "execution_count": 230,
     "metadata": {},
     "output_type": "execute_result"
    }
   ],
   "source": [
    "transfer_upd['process_time'].mean()"
   ]
  },
  {
   "cell_type": "markdown",
   "metadata": {},
   "source": [
    "Over 2085 hours of time was successfully transferred during the 88 days of operation of our product. On an average, we were able to transfer 27.3 hours of time only through TRANSFERS with an average processing time of 7.37 hours with only a few outliers which take a few days to process."
   ]
  },
  {
   "cell_type": "markdown",
   "metadata": {},
   "source": [
    "**2) RELEASE**"
   ]
  },
  {
   "cell_type": "code",
   "execution_count": 231,
   "metadata": {},
   "outputs": [
    {
     "data": {
      "text/plain": [
       "1178"
      ]
     },
     "execution_count": 231,
     "metadata": {},
     "output_type": "execute_result"
    }
   ],
   "source": [
    "#Filter transactions having Release and Mark updated actions\n",
    "release_upd = fresh_leftjoin_notnull[(fresh_leftjoin_notnull['action_x']=='RELEASE') & \n",
    "                                     (fresh_leftjoin_notnull['action_y']=='MARK_UPDATED')]\n",
    "release_upd.shape[0]"
   ]
  },
  {
   "cell_type": "code",
   "execution_count": 232,
   "metadata": {},
   "outputs": [
    {
     "data": {
      "text/plain": [
       "23"
      ]
     },
     "execution_count": 232,
     "metadata": {},
     "output_type": "execute_result"
    }
   ],
   "source": [
    "#Filter transactions having Release and Deny release actions\n",
    "release_den = fresh_leftjoin_notnull[(fresh_leftjoin_notnull['action_x']=='RELEASE') & \n",
    "                                     (fresh_leftjoin_notnull['action_y']=='DENY_RELEASE')]\n",
    "release_den.shape[0]"
   ]
  },
  {
   "cell_type": "markdown",
   "metadata": {},
   "source": [
    "We note here that from the 1200 RELEASE transactions, 1178 were MARKED UPDATED. The remaining 23 transfer transactions were denied. 99% percent of RELEASE transactions were APPROVED (directly MARKED UPDATED in this case)."
   ]
  },
  {
   "cell_type": "code",
   "execution_count": 233,
   "metadata": {},
   "outputs": [
    {
     "data": {
      "text/plain": [
       "9433.833333333334"
      ]
     },
     "execution_count": 233,
     "metadata": {},
     "output_type": "execute_result"
    }
   ],
   "source": [
    "release_upd['duration'].sum()"
   ]
  },
  {
   "cell_type": "code",
   "execution_count": 234,
   "metadata": {},
   "outputs": [
    {
     "data": {
      "image/png": "[encoded data removed]",
      "text/plain": [
       "<Figure size 432x288 with 1 Axes>"
      ]
     },
     "metadata": {
      "needs_background": "light"
     },
     "output_type": "display_data"
    }
   ],
   "source": [
    "plt.hist(release_upd['duration'], color = 'green')\n",
    "plt.xlabel('Release duration')\n",
    "plt.ylabel('Count')\n",
    "plt.show()"
   ]
  },
  {
   "cell_type": "code",
   "execution_count": 246,
   "metadata": {},
   "outputs": [
    {
     "data": {
      "image/png": "[encoded data removed]",
      "text/plain": [
       "<Figure size 432x288 with 1 Axes>"
      ]
     },
     "metadata": {
      "needs_background": "light"
     },
     "output_type": "display_data"
    }
   ],
   "source": [
    "release_upd.loc[:,'process_time'] = ((pd.to_datetime(release_upd['created_datetime_y']) - \n",
    "                                              pd.to_datetime(release_upd['created_datetime_x']))).dt.total_seconds()/3600\n",
    "plt.hist(release_upd['process_time'])\n",
    "plt.xlabel('Release processing time')\n",
    "plt.ylabel('Frequency')\n",
    "plt.show()"
   ]
  },
  {
   "cell_type": "code",
   "execution_count": 236,
   "metadata": {},
   "outputs": [
    {
     "data": {
      "text/plain": [
       "7.157871156385596"
      ]
     },
     "execution_count": 236,
     "metadata": {},
     "output_type": "execute_result"
    }
   ],
   "source": [
    "release_upd['process_time'].mean()"
   ]
  },
  {
   "cell_type": "markdown",
   "metadata": {},
   "source": [
    "About 9434 hours of time was released during the 88 days of operation of our product. On an average, 107 hours of time was RELEASED per day. The average processing time to process a release was 7.15 hours."
   ]
  },
  {
   "cell_type": "markdown",
   "metadata": {},
   "source": [
    "**3) REQUEST**"
   ]
  },
  {
   "cell_type": "code",
   "execution_count": 237,
   "metadata": {},
   "outputs": [
    {
     "data": {
      "text/plain": [
       "1134"
      ]
     },
     "execution_count": 237,
     "metadata": {},
     "output_type": "execute_result"
    }
   ],
   "source": [
    "#Filter transactions having Request and Mark updated actions\n",
    "req_upd = fresh_leftjoin_notnull[(fresh_leftjoin_notnull['action_x']=='REQUEST') & \n",
    "                                 (fresh_leftjoin_notnull['action_y']=='MARK_UPDATED')]\n",
    "req_upd.shape[0]"
   ]
  },
  {
   "cell_type": "code",
   "execution_count": 238,
   "metadata": {},
   "outputs": [
    {
     "data": {
      "text/plain": [
       "1134"
      ]
     },
     "execution_count": 238,
     "metadata": {},
     "output_type": "execute_result"
    }
   ],
   "source": [
    "#Filter transactions having Request and Approve transfer actions\n",
    "request_app = fresh_leftjoin_notnull[(fresh_leftjoin_notnull['action_x']=='REQUEST') & \n",
    "                                     (fresh_leftjoin_notnull['action_y']=='APPROVE_REQUEST')]\n",
    "request_app.shape[0]"
   ]
  },
  {
   "cell_type": "code",
   "execution_count": 239,
   "metadata": {},
   "outputs": [
    {
     "data": {
      "text/plain": [
       "174"
      ]
     },
     "execution_count": 239,
     "metadata": {},
     "output_type": "execute_result"
    }
   ],
   "source": [
    " #Filter transactions having Request and Deny transfer actions\n",
    "request_deny = fresh_leftjoin_notnull[(fresh_leftjoin_notnull['action_x']=='REQUEST') & \n",
    "                                      (fresh_leftjoin_notnull['action_y']=='DENY_REQUEST')]\n",
    "request_deny.shape[0]"
   ]
  },
  {
   "cell_type": "markdown",
   "metadata": {},
   "source": [
    "We note here that from the 1309 REQUEST transactions, 1134 were APPROVED and MARKED UPDATED in that order. The remaining 175 REQUEST transactions were denied. 86.6% percent of REQUESTS were APPROVED."
   ]
  },
  {
   "cell_type": "code",
   "execution_count": 240,
   "metadata": {},
   "outputs": [
    {
     "data": {
      "text/plain": [
       "4668.25"
      ]
     },
     "execution_count": 240,
     "metadata": {},
     "output_type": "execute_result"
    }
   ],
   "source": [
    "request_app['duration'].sum()"
   ]
  },
  {
   "cell_type": "code",
   "execution_count": 241,
   "metadata": {},
   "outputs": [
    {
     "data": {
      "image/png": "[encoded data removed]",
      "text/plain": [
       "<Figure size 432x288 with 1 Axes>"
      ]
     },
     "metadata": {
      "needs_background": "light"
     },
     "output_type": "display_data"
    }
   ],
   "source": [
    "plt.hist(request_app['duration'], color = 'green')\n",
    "plt.xlabel('Request duration')\n",
    "plt.ylabel('Count')\n",
    "plt.show()"
   ]
  },
  {
   "cell_type": "code",
   "execution_count": 247,
   "metadata": {},
   "outputs": [
    {
     "data": {
      "image/png": "[encoded data removed]",
      "text/plain": [
       "<Figure size 432x288 with 1 Axes>"
      ]
     },
     "metadata": {
      "needs_background": "light"
     },
     "output_type": "display_data"
    }
   ],
   "source": [
    "request_app.loc[:,'process_time'] = ((pd.to_datetime(request_app['created_datetime_y']) - \n",
    "                                              pd.to_datetime(request_app['created_datetime_x']))).dt.total_seconds()/3600\n",
    "plt.hist(request_app['process_time'])\n",
    "plt.xlabel('Request processing time')\n",
    "plt.ylabel('Frequency')\n",
    "plt.show()"
   ]
  },
  {
   "cell_type": "code",
   "execution_count": 243,
   "metadata": {},
   "outputs": [
    {
     "data": {
      "text/plain": [
       "10.236376151283563"
      ]
     },
     "execution_count": 243,
     "metadata": {},
     "output_type": "execute_result"
    }
   ],
   "source": [
    "request_app['process_time'].mean()"
   ]
  },
  {
   "cell_type": "markdown",
   "metadata": {},
   "source": [
    "About 4668 hours of time was released during the 88 days of operation of our product. On an average, 53 hours of time was REQUESTED per day. "
   ]
  },
  {
   "cell_type": "markdown",
   "metadata": {},
   "source": [
    "**Conclusion:**\n",
    "* 11500 hours of total time was available for transactions in 88 days.\n",
    "* 6700 hours of time transferred via the transactions.\n",
    "* Our product is effective in helping reduce unutilized time by more than half.\n",
    "* The average processing time for a request is 10.2 hours and it is even lesser (7 hours) for release and transfer."
   ]
  }
 ],
 "metadata": {
  "kernelspec": {
   "display_name": "Python 3",
   "language": "python",
   "name": "python3"
  },
  "language_info": {
   "codemirror_mode": {
    "name": "ipython",
    "version": 3
   },
   "file_extension": ".py",
   "mimetype": "text/x-python",
   "name": "python",
   "nbconvert_exporter": "python",
   "pygments_lexer": "ipython3",
   "version": "3.7.3"
  }
 },
 "nbformat": 4,
 "nbformat_minor": 2
}
